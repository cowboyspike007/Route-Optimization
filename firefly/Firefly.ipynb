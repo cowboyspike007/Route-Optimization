{
 "cells": [
  {
   "cell_type": "code",
   "execution_count": 18,
   "id": "cfc4369e",
   "metadata": {},
   "outputs": [
    {
     "data": {
      "text/plain": [
       "show (generic function with 292 methods)"
      ]
     },
     "execution_count": 18,
     "metadata": {},
     "output_type": "execute_result"
    }
   ],
   "source": [
    "using Pkg, Random\n",
    "using Dates\n",
    "using PyPlot, Logging\n",
    "import Base.show, Base.copy\n",
    "\n",
    "struct Node\n",
    "    id::Int16\n",
    "    x::Float32\n",
    "    y::Float32\n",
    "end\n",
    "\n",
    "function show(io::IO, n::Node)\n",
    "    print(string(\"Node:\", n.id))\n",
    "end"
   ]
  },
  {
   "cell_type": "code",
   "execution_count": 19,
   "id": "5651306d",
   "metadata": {},
   "outputs": [
    {
     "data": {
      "text/plain": [
       "copy (generic function with 84 methods)"
      ]
     },
     "execution_count": 19,
     "metadata": {},
     "output_type": "execute_result"
    }
   ],
   "source": [
    "mutable struct Firefly\n",
    "    path::Array{Node}\n",
    "    cost::Float32\n",
    "end\n",
    "\n",
    "function show(io::IO, n::Firefly)\n",
    "    print(string(\"Firefly:\", n.cost, \" \"))\n",
    "end\n",
    "\n",
    "copy(s::Firefly) = Firefly(s.path, s.cost)"
   ]
  },
  {
   "cell_type": "code",
   "execution_count": 20,
   "id": "2b485f83",
   "metadata": {},
   "outputs": [
    {
     "data": {
      "text/plain": [
       "arc_distance (generic function with 1 method)"
      ]
     },
     "execution_count": 20,
     "metadata": {},
     "output_type": "execute_result"
    }
   ],
   "source": [
    "function arc_distance(f1::Firefly, f2::Firefly)::Int\n",
    "    \"\"\"Calculates the arc distance between two firefly paths.\n",
    "    Example:\n",
    "        Firefly i -> 1 2 4 6 3 5 7\n",
    "        Firefly j -> 1 2 4 3 5 7 6 \n",
    "        1-2, 2-4, 3-5, 5-7 arcs in firefly i are also presented\n",
    "        in firefly j. But 4-6, 6-3 arcs are missing in\n",
    "        firefly j. so the arc distance between firefly i\n",
    "        and firefly j is 2 here.\n",
    "    \"\"\"\n",
    "    missmatched_pair_counts = 0\n",
    "    f1_pairs = zip(f1.path[1:end-1], f1.path[2:end])\n",
    "    f2_pairs = zip(f2.path[1:end-1], f2.path[2:end])\n",
    "\n",
    "    for f1_pair in f1_pairs\n",
    "        if f1_pair ∉ f2_pairs missmatched_pair_counts += 1 end\n",
    "    end\n",
    "\n",
    "    return missmatched_pair_counts\n",
    "end\n"
   ]
  },
  {
   "cell_type": "code",
   "execution_count": 21,
   "id": "3b76068a",
   "metadata": {},
   "outputs": [
    {
     "data": {
      "text/plain": [
       "attractiveness (generic function with 1 method)"
      ]
     },
     "execution_count": 21,
     "metadata": {},
     "output_type": "execute_result"
    }
   ],
   "source": [
    "function attractiveness(source_node::Firefly, destination_node::Firefly, λ::Float32)::Float32\n",
    "    \"\"\"Firefly’s attractiveness is proportional to the light\n",
    "    intensity seen by adjacent fireflies, we can now define the\n",
    "    attractiveness β of a firefly depending on distance between\n",
    "    two fireflies.\n",
    "    \"\"\"\n",
    "    β = source_node.cost\n",
    "    r, _ = hamming_distance(source_node, destination_node)\n",
    "    return β * exp(-λ ^ (r^2))\n",
    "end"
   ]
  },
  {
   "cell_type": "code",
   "execution_count": 22,
   "id": "630920eb",
   "metadata": {},
   "outputs": [
    {
     "data": {
      "text/plain": [
       "create_distance_matrix (generic function with 1 method)"
      ]
     },
     "execution_count": 22,
     "metadata": {},
     "output_type": "execute_result"
    }
   ],
   "source": [
    "function create_distance_matrix(nodes::Array{Node})\n",
    "    \"\"\"Creates and returns the matrix of distances between given nodes.\n",
    "    Uses euclidean_distance function to calculate distance.\n",
    "    \"\"\"\n",
    "    node_num = length(nodes)\n",
    "    result_matrix = zeros(node_num, node_num)\n",
    "\n",
    "    for n1 in nodes\n",
    "        for n2 in nodes\n",
    "            result_matrix[n1.id,n2.id] = haversine_distance(n1, n2)\n",
    "        end\n",
    "    end\n",
    "    return result_matrix\n",
    "end"
   ]
  },
  {
   "cell_type": "code",
   "execution_count": 23,
   "id": "4248dac5",
   "metadata": {},
   "outputs": [
    {
     "data": {
      "text/plain": [
       "generate_mutated_fireflies (generic function with 1 method)"
      ]
     },
     "execution_count": 23,
     "metadata": {},
     "output_type": "execute_result"
    }
   ],
   "source": [
    "function generate_mutated_fireflies(firefly::Firefly, distance_matrix, r::Int, k::Int)::Array{Firefly}\n",
    "    \"\"\"Generates mutated fireflies using inversion_mutation function.\n",
    "    Returns the new generated firefly array.\n",
    "    \"\"\"\n",
    "    return [inversion_mutation(copy(firefly), distance_matrix, r) for _ in 1:k]\n",
    "end"
   ]
  },
  {
   "cell_type": "code",
   "execution_count": 24,
   "id": "1a0834ce",
   "metadata": {},
   "outputs": [
    {
     "data": {
      "text/plain": [
       "hamming_distance (generic function with 1 method)"
      ]
     },
     "execution_count": 24,
     "metadata": {},
     "output_type": "execute_result"
    }
   ],
   "source": [
    "function hamming_distance(firefly_1::Firefly, firefly_2::Firefly)\n",
    "    \"\"\"Calculates the hamming distance between two fireflies.\n",
    "    \"\"\"\n",
    "    dist = 0\n",
    "    dist_info = []\n",
    "    for (i, n) in enumerate(firefly_1.path)\n",
    "        if n.id != firefly_2.path[i].id\n",
    "            dist += 1\n",
    "            push!(dist_info, true)\n",
    "        else\n",
    "            push!(dist_info, false)\n",
    "        end\n",
    "    end\n",
    "    return dist, dist_info\n",
    "end"
   ]
  },
  {
   "cell_type": "code",
   "execution_count": 25,
   "id": "fa2b7dff",
   "metadata": {},
   "outputs": [
    {
     "data": {
      "text/plain": [
       "haversine_distance (generic function with 1 method)"
      ]
     },
     "execution_count": 25,
     "metadata": {},
     "output_type": "execute_result"
    }
   ],
   "source": [
    "function haversine_distance(n1::Node, n2::Node)::Float32\n",
    "    #converting decimal degree to radians\n",
    "    lat1=n1.y\n",
    "    long1=n1.x\n",
    "    lat2=n2.y\n",
    "    long2=n2.x\n",
    "    lat1,long1,lat2,long2=map(deg2rad,[lat1,long1,lat2,long2])\n",
    "    \n",
    "    # Using Haversine formula for distance calculation\n",
    "    dlat=lat2-lat1\n",
    "    dlong=long2-long1\n",
    "    a=sin(dlat/2)^2 + cos(lat1) * cos(lat2) * sin(dlong/2)^2\n",
    "    c=2 * asin(sqrt(a))\n",
    "    r=6371 #radius of earth in km\n",
    "    return c*r\n",
    "end"
   ]
  },
  {
   "cell_type": "code",
   "execution_count": 26,
   "id": "9fdec937",
   "metadata": {},
   "outputs": [
    {
     "data": {
      "text/plain": [
       "init_firefly_paths (generic function with 1 method)"
      ]
     },
     "execution_count": 26,
     "metadata": {},
     "output_type": "execute_result"
    }
   ],
   "source": [
    "function init_firefly_paths(fireflies::Array{Firefly}, distance_matrix)\n",
    "    \"\"\"Initializes random paths for the given firefly array.\n",
    "    \"\"\"\n",
    "    println(\"inside init_firefly_paths\")\n",
    "    for f in fireflies\n",
    "        shuffle!(f.path)\n",
    "        f.cost = path_cost(f, distance_matrix)\n",
    "    end\n",
    "end"
   ]
  },
  {
   "cell_type": "code",
   "execution_count": 27,
   "id": "ae85ceee",
   "metadata": {},
   "outputs": [
    {
     "data": {
      "text/plain": [
       "inversion_mutation (generic function with 1 method)"
      ]
     },
     "execution_count": 27,
     "metadata": {},
     "output_type": "execute_result"
    }
   ],
   "source": [
    "function inversion_mutation(firefly::Firefly, distance_matrix, r::Int)::Firefly\n",
    "    \"\"\"Reverses the random part of given firefly path with\n",
    "    given difference.\n",
    "    \"\"\"\n",
    "    length_of_mutation = rand(2:r);\n",
    "    max_len = length(firefly.path)-length_of_mutation\n",
    "    index1 = rand(1:max_len)\n",
    "    index2 = index1 + length_of_mutation\n",
    "    mutated_path = reverse(firefly.path, index1, index2)\n",
    "    new_f = copy(firefly)\n",
    "    new_f.path = mutated_path\n",
    "    new_f.cost = path_cost(new_f, distance_matrix)\n",
    "    return new_f\n",
    "end"
   ]
  },
  {
   "cell_type": "code",
   "execution_count": 28,
   "id": "538a0709",
   "metadata": {},
   "outputs": [
    {
     "data": {
      "text/plain": [
       "light_intensity (generic function with 1 method)"
      ]
     },
     "execution_count": 28,
     "metadata": {},
     "output_type": "execute_result"
    }
   ],
   "source": [
    "function light_intensity(source_node::Firefly, destination_node::Firefly, λ::Float32)::Float32\n",
    "    \"\"\"Calculates the light intensity for the source firefly.\n",
    "    \"\"\"\n",
    "    I_0 = source_node.cost\n",
    "    r, _ = hamming_distance(source_node, destination_node)\n",
    "    return I_0 * ℯ ^ (-λ * (r^2))\n",
    "end"
   ]
  },
  {
   "cell_type": "code",
   "execution_count": 29,
   "id": "c621c4f8",
   "metadata": {},
   "outputs": [
    {
     "data": {
      "text/plain": [
       "move_firefly (generic function with 1 method)"
      ]
     },
     "execution_count": 29,
     "metadata": {},
     "output_type": "execute_result"
    }
   ],
   "source": [
    "function move_firefly(f1::Firefly, f2::Firefly, r::Int)\n",
    "    \"\"\"Moving f1 to f2 less than r swap operations.\n",
    "    \"\"\"\n",
    "    number_of_swaps = Int(ceil(rand() * (r-2) ))\n",
    "    d, d_info = hamming_distance(f1, f2)\n",
    "\n",
    "    while number_of_swaps > 0\n",
    "        d, d_info = hamming_distance(f1, f2)\n",
    "        random_index = rand([i for i in 1:length(d_info) if d_info[i]])\n",
    "        value_to_copy = f2.path[random_index]\n",
    "        index_to_move = findfirst(x -> x==value_to_copy, f1.path)\n",
    "\n",
    "        if number_of_swaps == 1 && f1.path[index_to_move] == f2.path[random_index] && f1.path[random_index] == f2.path[index_to_move]\n",
    "            break\n",
    "        end\n",
    "\n",
    "        f1.path[random_index], f1.path[index_to_move] = f1.path[index_to_move], f1.path[random_index]\n",
    "        # println(\"swapped! \", f1.path[random_index], \" -- \", f1.path[index_to_move])\n",
    "        if f1.path[index_to_move] == f2.path[index_to_move] number_of_swaps -= 1 end\n",
    "        number_of_swaps -= 1\n",
    "    end\n",
    "end"
   ]
  },
  {
   "cell_type": "code",
   "execution_count": 30,
   "id": "98f41df4",
   "metadata": {},
   "outputs": [
    {
     "data": {
      "text/plain": [
       "path_cost (generic function with 1 method)"
      ]
     },
     "execution_count": 30,
     "metadata": {},
     "output_type": "execute_result"
    }
   ],
   "source": [
    "function path_cost(firefly::Firefly, distance_matrix)::Float32\n",
    "    \"\"\"Calculates the total path cost from given distance matrix.\n",
    "    \"\"\"\n",
    "    path = firefly.path\n",
    "    path_len = length(path) - 1\n",
    "    p_cost = distance_matrix[path[end].id, path[1].id]\n",
    "    for i in range(1, length=path_len)\n",
    "        p_cost +=  distance_matrix[path[i].id, path[i+1].id]\n",
    "    end\n",
    "\n",
    "    return p_cost\n",
    "end"
   ]
  },
  {
   "cell_type": "code",
   "execution_count": 31,
   "id": "ebe98899",
   "metadata": {},
   "outputs": [
    {
     "data": {
      "text/plain": [
       "read_nodes (generic function with 1 method)"
      ]
     },
     "execution_count": 31,
     "metadata": {},
     "output_type": "execute_result"
    }
   ],
   "source": [
    "function read_nodes(path::String)::Array{Node}\n",
    "    \"\"\"Reading nodes from giving file path.\n",
    "    \"\"\"\n",
    "    nodes = Node[]\n",
    "    open(path) do f\n",
    "        is_coords = false\n",
    "        for line in eachline(f)\n",
    "            if line == \"EOF\"\n",
    "                break\n",
    "            end\n",
    "            if line[1] == '1' \n",
    "                is_coords = true\n",
    "            end\n",
    "            if is_coords\n",
    "                line_vals = split(line)\n",
    "                id = parse(Int16, line_vals[1])\n",
    "                x_coord = parse(Float32, line_vals[2])\n",
    "                y_coord = parse(Float32, line_vals[3])\n",
    "                push!(nodes, Node(id, x_coord, y_coord))\n",
    "            end\n",
    "        end\n",
    "    end\n",
    "    return nodes\n",
    "end"
   ]
  },
  {
   "cell_type": "code",
   "execution_count": 43,
   "id": "bcc63f5c",
   "metadata": {},
   "outputs": [
    {
     "data": {
      "text/plain": [
       "main (generic function with 1 method)"
      ]
     },
     "execution_count": 43,
     "metadata": {},
     "output_type": "execute_result"
    }
   ],
   "source": [
    "function main()\n",
    "    \n",
    "    #now = string(Dates.now())\n",
    "\n",
    "    file_name = \"cluster1\"\n",
    "    if file_name != nothing\n",
    "        println(\"Reading from: \", file_name)\n",
    "        nodes = read_nodes(file_name)\n",
    "        distance_matrix = create_distance_matrix(nodes)\n",
    "    end\n",
    "\n",
    "    # Checking if logs direcitory is available!\n",
    "    # If is not create one!\n",
    "    if !isdir(\"logs\") mkdir(\"logs\"); end\n",
    "\n",
    "    if '/' in file_name\n",
    "        tsp_file_name = split(file_name, \"/\")[end]\n",
    "        io_log = open(\"logs/$tsp_file_name.txt\", \"w+\")\n",
    "    else\n",
    "        tsp_file_name = file_name\n",
    "        io_log = open(\"logs/$tsp_file_name.txt\", \"w+\")\n",
    "    end\n",
    "\n",
    "    # Setting Logger!\n",
    "    logger = SimpleLogger(io_log)\n",
    "    global_logger(logger)\n",
    "\n",
    "    # Setting hyperparameters!\n",
    "    LIGHT_ABSORPTION_COEFF = 0.2\n",
    "    ATTRACTION_COEFF = 1\n",
    "    ITERATION_NUMBER = 100\n",
    "    POPULATION_NUMBER = 150\n",
    "    NUMBER_OF_MUTATION = 10\n",
    "\n",
    "    # Main firefly algorithm\n",
    "    bests = []\n",
    "    pop = [Firefly(copy(nodes), -1.0) for _ in 1:POPULATION_NUMBER]\n",
    "    init_firefly_paths(pop, distance_matrix)\n",
    "    println(length(pop), \" Sized population created!\")\n",
    "    for t in 1:ITERATION_NUMBER\n",
    "        new_pop = []\n",
    "        for f1 in pop\n",
    "            for f2 in pop\n",
    "                if f1.cost < f2.cost \n",
    "                    mutated_f1s = generate_mutated_fireflies(f2, distance_matrix, arc_distance(f1, f2), NUMBER_OF_MUTATION)\n",
    "                    new_pop = [new_pop ; mutated_f1s]\n",
    "                    push!(new_pop, f2)\n",
    "                end\n",
    "            end\n",
    "        end\n",
    "        [push!(pop, n) for n in new_pop]\n",
    "        sorted_pop = sort!(pop, by=p->p.cost)\n",
    "        while length(pop) != POPULATION_NUMBER\n",
    "            pop!(pop)\n",
    "        end\n",
    "        push!(bests, sorted_pop[1])\n",
    "        current_best_cost = copy(bests[end].cost)\n",
    "        now = string(Dates.now())\n",
    "        println(\"Step:\",t, \" - Best \", bests[end])\n",
    "        @info(\"Step:$t, Population Size:$POPULATION_NUMBER, Mutation Number:$NUMBER_OF_MUTATION, Date:$now\",\n",
    "              current_best_cost)\n",
    "    end\n",
    "\n",
    "    close(io_log)\n",
    "\n",
    "    # Checking if graphs direcitory is available for saving graphs!\n",
    "    # If is not create one!\n",
    "    if !isdir(\"graphs\") mkdir(\"graphs\"); end\n",
    "\n",
    "    # Plotting and printing the best solutions.\n",
    "    best = sort(pop, by=p->p.cost)[1]\n",
    "    best_x = [n.x for n in best.path]\n",
    "    best_y = [n.y for n in best.path]\n",
    "    best_id= [n.id for n in best.path]\n",
    "    best_cost = best.cost\n",
    "    plot(best_x, best_y, \"-\")\n",
    "    x = [n.x for n in nodes]\n",
    "    y = [n.y for n in nodes]\n",
    "    plot(x, y, \"ro\", markersize=2.0)\n",
    "    xlabel(\"X Dimension\")\n",
    "    ylabel(\"Y Dimension\")\n",
    "    title(\"Firefly Cost: $best_cost\", fontsize=10)\n",
    "    suptitle(\"File: $file_name\", fontweight=\"bold\")\n",
    "    fig_name = \"graphs/best_firefly_path_$tsp_file_name-cost_$best_cost.png\"\n",
    "    savefig(fig_name)\n",
    "    println(\"Saved figure:\",fig_name)\n",
    "    clf()\n",
    "\n",
    "    x_cost = [b.cost for b in bests]\n",
    "    plot(x_cost)\n",
    "    grid(true)\n",
    "    ylabel(\"Path Cost\")\n",
    "    xlabel(\"Iteration Number\")\n",
    "    title(\"Firefly Iteration Graphic\", fontsize=12)\n",
    "    fig_name = \"graphs/iteration_$tsp_file_name-cost_$best_cost.png\"\n",
    "    savefig(fig_name)\n",
    "    println(\"Saved figure:\",fig_name)\n",
    "    return z=[best_id, best_x, best_y]\n",
    "end"
   ]
  },
  {
   "cell_type": "code",
   "execution_count": 44,
   "id": "77ec50f3",
   "metadata": {},
   "outputs": [
    {
     "name": "stdout",
     "output_type": "stream",
     "text": [
      "Reading from: cluster1\n",
      "inside init_firefly_paths\n",
      "150 Sized population created!\n",
      "Step:1 - Best Firefly:3011.059 \n",
      "Step:2 - Best Firefly:2751.9478 \n",
      "Step:3 - Best Firefly:2550.2651 \n",
      "Step:4 - Best Firefly:2323.3684 \n",
      "Step:5 - Best Firefly:2323.3684 \n",
      "Step:6 - Best Firefly:2323.3684 \n",
      "Step:7 - Best Firefly:2323.3684 \n",
      "Step:8 - Best Firefly:2323.3684 \n",
      "Step:9 - Best Firefly:2323.3684 \n",
      "Step:10 - Best Firefly:2323.3684 \n",
      "Step:11 - Best Firefly:2323.3684 \n",
      "Step:12 - Best Firefly:2323.3684 \n",
      "Step:13 - Best Firefly:2323.3684 \n",
      "Step:14 - Best Firefly:2323.3684 \n",
      "Step:15 - Best Firefly:2323.3684 \n",
      "Step:16 - Best Firefly:2323.3684 \n",
      "Step:17 - Best Firefly:2323.3684 \n",
      "Step:18 - Best Firefly:2323.3684 \n",
      "Step:19 - Best Firefly:2323.3684 \n",
      "Step:20 - Best Firefly:2323.3684 \n",
      "Step:21 - Best Firefly:2323.3684 \n",
      "Step:22 - Best Firefly:2323.3684 \n",
      "Step:23 - Best Firefly:2323.3684 \n",
      "Step:24 - Best Firefly:2323.3684 \n",
      "Step:25 - Best Firefly:2323.3684 \n",
      "Step:26 - Best Firefly:2323.3684 \n",
      "Step:27 - Best Firefly:2323.3684 \n",
      "Step:28 - Best Firefly:2323.3684 \n",
      "Step:29 - Best Firefly:2323.3684 \n",
      "Step:30 - Best Firefly:2323.3684 \n",
      "Step:31 - Best Firefly:2323.3684 \n",
      "Step:32 - Best Firefly:2323.3684 \n",
      "Step:33 - Best Firefly:2323.3684 \n",
      "Step:34 - Best Firefly:2323.3684 \n",
      "Step:35 - Best Firefly:2323.3684 \n",
      "Step:36 - Best Firefly:2323.3684 \n",
      "Step:37 - Best Firefly:2323.3684 \n",
      "Step:38 - Best Firefly:2323.3684 \n",
      "Step:39 - Best Firefly:2323.3684 \n",
      "Step:40 - Best Firefly:2323.3684 \n",
      "Step:41 - Best Firefly:2323.3684 \n",
      "Step:42 - Best Firefly:2323.3684 \n",
      "Step:43 - Best Firefly:2323.3684 \n",
      "Step:44 - Best Firefly:2323.3684 \n",
      "Step:45 - Best Firefly:2323.3684 \n",
      "Step:46 - Best Firefly:2323.3684 \n",
      "Step:47 - Best Firefly:2323.3684 \n",
      "Step:48 - Best Firefly:2323.3684 \n",
      "Step:49 - Best Firefly:2323.3684 \n",
      "Step:50 - Best Firefly:2323.3684 \n",
      "Step:51 - Best Firefly:2323.3684 \n",
      "Step:52 - Best Firefly:2323.3684 \n",
      "Step:53 - Best Firefly:2323.3684 \n",
      "Step:54 - Best Firefly:2323.3684 \n",
      "Step:55 - Best Firefly:2323.3684 \n",
      "Step:56 - Best Firefly:2323.3684 \n",
      "Step:57 - Best Firefly:2323.3684 \n",
      "Step:58 - Best Firefly:2323.3684 \n",
      "Step:59 - Best Firefly:2323.3684 \n",
      "Step:60 - Best Firefly:2323.3684 \n",
      "Step:61 - Best Firefly:2323.3684 \n",
      "Step:62 - Best Firefly:2323.3684 \n",
      "Step:63 - Best Firefly:2323.3684 \n",
      "Step:64 - Best Firefly:2323.3684 \n",
      "Step:65 - Best Firefly:2323.3684 \n",
      "Step:66 - Best Firefly:2323.3684 \n",
      "Step:67 - Best Firefly:2323.3684 \n",
      "Step:68 - Best Firefly:2323.3684 \n",
      "Step:69 - Best Firefly:2323.3684 \n",
      "Step:70 - Best Firefly:2323.3684 \n",
      "Step:71 - Best Firefly:2323.3684 \n",
      "Step:72 - Best Firefly:2323.3684 \n",
      "Step:73 - Best Firefly:2323.3684 \n",
      "Step:74 - Best Firefly:2323.3684 \n",
      "Step:75 - Best Firefly:2323.3684 \n",
      "Step:76 - Best Firefly:2323.3684 \n",
      "Step:77 - Best Firefly:2323.3684 \n",
      "Step:78 - Best Firefly:2323.3684 \n",
      "Step:79 - Best Firefly:2323.3684 \n",
      "Step:80 - Best Firefly:2323.3684 \n",
      "Step:81 - Best Firefly:2323.3684 \n",
      "Step:82 - Best Firefly:2323.3684 \n",
      "Step:83 - Best Firefly:2323.3684 \n",
      "Step:84 - Best Firefly:2323.3684 \n",
      "Step:85 - Best Firefly:2323.3684 \n",
      "Step:86 - Best Firefly:2323.3684 \n",
      "Step:87 - Best Firefly:2323.3684 \n",
      "Step:88 - Best Firefly:2323.3684 \n",
      "Step:89 - Best Firefly:2323.3684 \n",
      "Step:90 - Best Firefly:2323.3684 \n",
      "Step:91 - Best Firefly:2323.3684 \n",
      "Step:92 - Best Firefly:2323.3684 \n",
      "Step:93 - Best Firefly:2323.3684 \n",
      "Step:94 - Best Firefly:2323.3684 \n",
      "Step:95 - Best Firefly:2323.3684 \n",
      "Step:96 - Best Firefly:2323.3684 \n",
      "Step:97 - Best Firefly:2323.3684 \n",
      "Step:98 - Best Firefly:2323.3684 \n",
      "Step:99 - Best Firefly:2323.3684 \n",
      "Step:100 - Best Firefly:2323.3684 \n",
      "Saved figure:graphs/best_firefly_path_cluster1-cost_2323.3684.png"
     ]
    },
    {
     "data": {
      "image/png": "[encoded data removed]",
      "text/plain": [
       "Figure(PyObject <Figure size 640x480 with 1 Axes>)"
      ]
     },
     "metadata": {},
     "output_type": "display_data"
    },
    {
     "name": "stdout",
     "output_type": "stream",
     "text": [
      "\n",
      "Saved figure:graphs/iteration_cluster1-cost_2323.3684.png\n"
     ]
    },
    {
     "data": {
      "text/plain": [
       "3-element Vector{Vector{Float32}}:\n",
       " [10.0, 8.0, 4.0, 2.0, 9.0, 1.0, 7.0, 11.0, 13.0, 3.0, 6.0, 15.0, 12.0, 5.0, 14.0]\n",
       " [73.32061, 73.00594, 73.31496, 74.640816, 75.839066, 74.638664, 75.78787, 75.78934, 75.78611, 77.40289, 75.85859, 75.776436, 75.04031, 72.683334, 73.690506]\n",
       " [25.775126, 26.26841, 28.017624, 25.34707, 25.182545, 26.452103, 26.913313, 26.884682, 26.168673, 23.254688, 22.717735, 23.182386, 23.330332, 23.216667, 24.57951]"
      ]
     },
     "execution_count": 44,
     "metadata": {},
     "output_type": "execute_result"
    }
   ],
   "source": [
    "main()"
   ]
  }
 ],
 "metadata": {
  "kernelspec": {
   "display_name": "Julia 1.6.0",
   "language": "julia",
   "name": "julia-1.6"
  },
  "language_info": {
   "file_extension": ".jl",
   "mimetype": "application/julia",
   "name": "julia",
   "version": "1.6.0"
  }
 },
 "nbformat": 4,
 "nbformat_minor": 5
}
